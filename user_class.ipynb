{
 "cells": [
  {
   "cell_type": "code",
   "execution_count": 10,
   "id": "3d26bd18",
   "metadata": {},
   "outputs": [],
   "source": [
    "import pandas as pd\n",
    "import numpy as np\n",
    "from sklearn.cluster import KMeans\n",
    "\n",
    "from sklearn import metrics\n",
    "from scipy.spatial.distance import cdist\n",
    "import matplotlib.pyplot as plt\n",
    "from sklearn.cluster import AffinityPropagation"
   ]
  },
  {
   "cell_type": "code",
   "execution_count": 40,
   "id": "8b50eac6",
   "metadata": {},
   "outputs": [],
   "source": [
    "train = pd.read_csv(\"train.csv\")"
   ]
  },
  {
   "cell_type": "code",
   "execution_count": 41,
   "id": "a2108872",
   "metadata": {},
   "outputs": [
    {
     "name": "stderr",
     "output_type": "stream",
     "text": [
      "<ipython-input-41-90c5fda747c9>:2: SettingWithCopyWarning: \n",
      "A value is trying to be set on a copy of a slice from a DataFrame.\n",
      "Try using .loc[row_indexer,col_indexer] = value instead\n",
      "\n",
      "See the caveats in the documentation: https://pandas.pydata.org/pandas-docs/stable/user_guide/indexing.html#returning-a-view-versus-a-copy\n",
      "  prep_df['cat'] = prep_df['item_id'].apply(lambda x: int(str(x)[:3]))\n"
     ]
    }
   ],
   "source": [
    "prep_df = train[['buyer_id', 'item_id']] # может еще взять count?\n",
    "prep_df['cat'] = prep_df['item_id'].apply(lambda x: int(str(x)[:3]))\n",
    "del prep_df['item_id']\n",
    "user_items_count = prep_df['buyer_id'].value_counts()\n",
    "user_cat_count = prep_df.value_counts()"
   ]
  },
  {
   "cell_type": "code",
   "execution_count": 42,
   "id": "3fa24311",
   "metadata": {},
   "outputs": [],
   "source": [
    "for i in user_cat_count.index:\n",
    "    user_cat_count.loc[i] = user_cat_count[i] / user_items_count[i[0]]\n",
    "    \n",
    "test_df = pd.DataFrame(columns=['buyer_id'] + list(user_cat_count.index.get_level_values('cat').unique()))\n",
    "test_df['buyer_id'] = list(user_cat_count.index.get_level_values('buyer_id').unique())\n",
    "test_df.fillna(0, inplace=True)"
   ]
  },
  {
   "cell_type": "code",
   "execution_count": 43,
   "id": "3b5a550b",
   "metadata": {},
   "outputs": [],
   "source": [
    "for i in user_cat_count.index:\n",
    "    test_df.loc[test_df['buyer_id'] == i[0], i[1]] = user_cat_count[i]"
   ]
  },
  {
   "cell_type": "code",
   "execution_count": 44,
   "id": "1e819b81",
   "metadata": {},
   "outputs": [],
   "source": [
    "del test_df[218]"
   ]
  },
  {
   "cell_type": "code",
   "execution_count": 45,
   "id": "ecc5e964",
   "metadata": {},
   "outputs": [
    {
     "data": {
      "text/html": [
       "<div>\n",
       "<style scoped>\n",
       "    .dataframe tbody tr th:only-of-type {\n",
       "        vertical-align: middle;\n",
       "    }\n",
       "\n",
       "    .dataframe tbody tr th {\n",
       "        vertical-align: top;\n",
       "    }\n",
       "\n",
       "    .dataframe thead th {\n",
       "        text-align: right;\n",
       "    }\n",
       "</style>\n",
       "<table border=\"1\" class=\"dataframe\">\n",
       "  <thead>\n",
       "    <tr style=\"text-align: right;\">\n",
       "      <th></th>\n",
       "      <th>buyer_id</th>\n",
       "      <th>202</th>\n",
       "      <th>203</th>\n",
       "      <th>204</th>\n",
       "      <th>205</th>\n",
       "      <th>211</th>\n",
       "      <th>207</th>\n",
       "      <th>210</th>\n",
       "      <th>212</th>\n",
       "      <th>213</th>\n",
       "      <th>216</th>\n",
       "      <th>215</th>\n",
       "      <th>209</th>\n",
       "      <th>217</th>\n",
       "      <th>214</th>\n",
       "      <th>206</th>\n",
       "    </tr>\n",
       "  </thead>\n",
       "  <tbody>\n",
       "    <tr>\n",
       "      <th>0</th>\n",
       "      <td>95474888</td>\n",
       "      <td>0.542969</td>\n",
       "      <td>0.326172</td>\n",
       "      <td>0.066406</td>\n",
       "      <td>0.025391</td>\n",
       "      <td>0.000000</td>\n",
       "      <td>0.023438</td>\n",
       "      <td>0.000000</td>\n",
       "      <td>0.015625</td>\n",
       "      <td>0.000000</td>\n",
       "      <td>0.000000</td>\n",
       "      <td>0.0</td>\n",
       "      <td>0.000000</td>\n",
       "      <td>0.0</td>\n",
       "      <td>0.000000</td>\n",
       "      <td>0.0</td>\n",
       "    </tr>\n",
       "    <tr>\n",
       "      <th>1</th>\n",
       "      <td>94740780</td>\n",
       "      <td>0.328704</td>\n",
       "      <td>0.422840</td>\n",
       "      <td>0.151235</td>\n",
       "      <td>0.035494</td>\n",
       "      <td>0.007716</td>\n",
       "      <td>0.035494</td>\n",
       "      <td>0.009259</td>\n",
       "      <td>0.004630</td>\n",
       "      <td>0.001543</td>\n",
       "      <td>0.000000</td>\n",
       "      <td>0.0</td>\n",
       "      <td>0.001543</td>\n",
       "      <td>0.0</td>\n",
       "      <td>0.001543</td>\n",
       "      <td>0.0</td>\n",
       "    </tr>\n",
       "    <tr>\n",
       "      <th>2</th>\n",
       "      <td>95363331</td>\n",
       "      <td>0.450586</td>\n",
       "      <td>0.410385</td>\n",
       "      <td>0.087102</td>\n",
       "      <td>0.035176</td>\n",
       "      <td>0.000000</td>\n",
       "      <td>0.013400</td>\n",
       "      <td>0.001675</td>\n",
       "      <td>0.001675</td>\n",
       "      <td>0.000000</td>\n",
       "      <td>0.000000</td>\n",
       "      <td>0.0</td>\n",
       "      <td>0.000000</td>\n",
       "      <td>0.0</td>\n",
       "      <td>0.000000</td>\n",
       "      <td>0.0</td>\n",
       "    </tr>\n",
       "    <tr>\n",
       "      <th>3</th>\n",
       "      <td>94807631</td>\n",
       "      <td>0.313821</td>\n",
       "      <td>0.437398</td>\n",
       "      <td>0.170732</td>\n",
       "      <td>0.024390</td>\n",
       "      <td>0.006504</td>\n",
       "      <td>0.022764</td>\n",
       "      <td>0.011382</td>\n",
       "      <td>0.006504</td>\n",
       "      <td>0.003252</td>\n",
       "      <td>0.001626</td>\n",
       "      <td>0.0</td>\n",
       "      <td>0.001626</td>\n",
       "      <td>0.0</td>\n",
       "      <td>0.000000</td>\n",
       "      <td>0.0</td>\n",
       "    </tr>\n",
       "    <tr>\n",
       "      <th>4</th>\n",
       "      <td>95355948</td>\n",
       "      <td>0.340102</td>\n",
       "      <td>0.455161</td>\n",
       "      <td>0.152284</td>\n",
       "      <td>0.023689</td>\n",
       "      <td>0.003384</td>\n",
       "      <td>0.013536</td>\n",
       "      <td>0.005076</td>\n",
       "      <td>0.003384</td>\n",
       "      <td>0.000000</td>\n",
       "      <td>0.003384</td>\n",
       "      <td>0.0</td>\n",
       "      <td>0.000000</td>\n",
       "      <td>0.0</td>\n",
       "      <td>0.000000</td>\n",
       "      <td>0.0</td>\n",
       "    </tr>\n",
       "    <tr>\n",
       "      <th>...</th>\n",
       "      <td>...</td>\n",
       "      <td>...</td>\n",
       "      <td>...</td>\n",
       "      <td>...</td>\n",
       "      <td>...</td>\n",
       "      <td>...</td>\n",
       "      <td>...</td>\n",
       "      <td>...</td>\n",
       "      <td>...</td>\n",
       "      <td>...</td>\n",
       "      <td>...</td>\n",
       "      <td>...</td>\n",
       "      <td>...</td>\n",
       "      <td>...</td>\n",
       "      <td>...</td>\n",
       "      <td>...</td>\n",
       "    </tr>\n",
       "    <tr>\n",
       "      <th>47737</th>\n",
       "      <td>94800228</td>\n",
       "      <td>0.300000</td>\n",
       "      <td>0.300000</td>\n",
       "      <td>0.300000</td>\n",
       "      <td>0.100000</td>\n",
       "      <td>0.000000</td>\n",
       "      <td>0.000000</td>\n",
       "      <td>0.000000</td>\n",
       "      <td>0.000000</td>\n",
       "      <td>0.000000</td>\n",
       "      <td>0.000000</td>\n",
       "      <td>0.0</td>\n",
       "      <td>0.000000</td>\n",
       "      <td>0.0</td>\n",
       "      <td>0.000000</td>\n",
       "      <td>0.0</td>\n",
       "    </tr>\n",
       "    <tr>\n",
       "      <th>47738</th>\n",
       "      <td>95806500</td>\n",
       "      <td>0.300000</td>\n",
       "      <td>0.300000</td>\n",
       "      <td>0.000000</td>\n",
       "      <td>0.200000</td>\n",
       "      <td>0.000000</td>\n",
       "      <td>0.100000</td>\n",
       "      <td>0.100000</td>\n",
       "      <td>0.000000</td>\n",
       "      <td>0.000000</td>\n",
       "      <td>0.000000</td>\n",
       "      <td>0.0</td>\n",
       "      <td>0.000000</td>\n",
       "      <td>0.0</td>\n",
       "      <td>0.000000</td>\n",
       "      <td>0.0</td>\n",
       "    </tr>\n",
       "    <tr>\n",
       "      <th>47739</th>\n",
       "      <td>95412139</td>\n",
       "      <td>0.230769</td>\n",
       "      <td>0.230769</td>\n",
       "      <td>0.076923</td>\n",
       "      <td>0.230769</td>\n",
       "      <td>0.076923</td>\n",
       "      <td>0.076923</td>\n",
       "      <td>0.076923</td>\n",
       "      <td>0.000000</td>\n",
       "      <td>0.000000</td>\n",
       "      <td>0.000000</td>\n",
       "      <td>0.0</td>\n",
       "      <td>0.000000</td>\n",
       "      <td>0.0</td>\n",
       "      <td>0.000000</td>\n",
       "      <td>0.0</td>\n",
       "    </tr>\n",
       "    <tr>\n",
       "      <th>47740</th>\n",
       "      <td>95067302</td>\n",
       "      <td>0.272727</td>\n",
       "      <td>0.272727</td>\n",
       "      <td>0.272727</td>\n",
       "      <td>0.181818</td>\n",
       "      <td>0.000000</td>\n",
       "      <td>0.000000</td>\n",
       "      <td>0.000000</td>\n",
       "      <td>0.000000</td>\n",
       "      <td>0.000000</td>\n",
       "      <td>0.000000</td>\n",
       "      <td>0.0</td>\n",
       "      <td>0.000000</td>\n",
       "      <td>0.0</td>\n",
       "      <td>0.000000</td>\n",
       "      <td>0.0</td>\n",
       "    </tr>\n",
       "    <tr>\n",
       "      <th>47741</th>\n",
       "      <td>95779916</td>\n",
       "      <td>0.181818</td>\n",
       "      <td>0.272727</td>\n",
       "      <td>0.181818</td>\n",
       "      <td>0.272727</td>\n",
       "      <td>0.090909</td>\n",
       "      <td>0.000000</td>\n",
       "      <td>0.000000</td>\n",
       "      <td>0.000000</td>\n",
       "      <td>0.000000</td>\n",
       "      <td>0.000000</td>\n",
       "      <td>0.0</td>\n",
       "      <td>0.000000</td>\n",
       "      <td>0.0</td>\n",
       "      <td>0.000000</td>\n",
       "      <td>0.0</td>\n",
       "    </tr>\n",
       "  </tbody>\n",
       "</table>\n",
       "<p>47742 rows × 16 columns</p>\n",
       "</div>"
      ],
      "text/plain": [
       "       buyer_id       202       203       204       205       211       207  \\\n",
       "0      95474888  0.542969  0.326172  0.066406  0.025391  0.000000  0.023438   \n",
       "1      94740780  0.328704  0.422840  0.151235  0.035494  0.007716  0.035494   \n",
       "2      95363331  0.450586  0.410385  0.087102  0.035176  0.000000  0.013400   \n",
       "3      94807631  0.313821  0.437398  0.170732  0.024390  0.006504  0.022764   \n",
       "4      95355948  0.340102  0.455161  0.152284  0.023689  0.003384  0.013536   \n",
       "...         ...       ...       ...       ...       ...       ...       ...   \n",
       "47737  94800228  0.300000  0.300000  0.300000  0.100000  0.000000  0.000000   \n",
       "47738  95806500  0.300000  0.300000  0.000000  0.200000  0.000000  0.100000   \n",
       "47739  95412139  0.230769  0.230769  0.076923  0.230769  0.076923  0.076923   \n",
       "47740  95067302  0.272727  0.272727  0.272727  0.181818  0.000000  0.000000   \n",
       "47741  95779916  0.181818  0.272727  0.181818  0.272727  0.090909  0.000000   \n",
       "\n",
       "            210       212       213       216  215       209  217       214  \\\n",
       "0      0.000000  0.015625  0.000000  0.000000  0.0  0.000000  0.0  0.000000   \n",
       "1      0.009259  0.004630  0.001543  0.000000  0.0  0.001543  0.0  0.001543   \n",
       "2      0.001675  0.001675  0.000000  0.000000  0.0  0.000000  0.0  0.000000   \n",
       "3      0.011382  0.006504  0.003252  0.001626  0.0  0.001626  0.0  0.000000   \n",
       "4      0.005076  0.003384  0.000000  0.003384  0.0  0.000000  0.0  0.000000   \n",
       "...         ...       ...       ...       ...  ...       ...  ...       ...   \n",
       "47737  0.000000  0.000000  0.000000  0.000000  0.0  0.000000  0.0  0.000000   \n",
       "47738  0.100000  0.000000  0.000000  0.000000  0.0  0.000000  0.0  0.000000   \n",
       "47739  0.076923  0.000000  0.000000  0.000000  0.0  0.000000  0.0  0.000000   \n",
       "47740  0.000000  0.000000  0.000000  0.000000  0.0  0.000000  0.0  0.000000   \n",
       "47741  0.000000  0.000000  0.000000  0.000000  0.0  0.000000  0.0  0.000000   \n",
       "\n",
       "       206  \n",
       "0      0.0  \n",
       "1      0.0  \n",
       "2      0.0  \n",
       "3      0.0  \n",
       "4      0.0  \n",
       "...    ...  \n",
       "47737  0.0  \n",
       "47738  0.0  \n",
       "47739  0.0  \n",
       "47740  0.0  \n",
       "47741  0.0  \n",
       "\n",
       "[47742 rows x 16 columns]"
      ]
     },
     "execution_count": 45,
     "metadata": {},
     "output_type": "execute_result"
    }
   ],
   "source": [
    "test_df\n"
   ]
  },
  {
   "cell_type": "code",
   "execution_count": 46,
   "id": "9c00f8e4",
   "metadata": {},
   "outputs": [],
   "source": [
    "X_train_df = test_df.copy()\n",
    "X_train_df.pop('buyer_id')\n",
    "X_train = X_train_df.values\n",
    "model = KMeans(n_clusters=7, random_state=7)\n",
    "model.fit(X_train)\n",
    "all_predictions = model.predict(X_train)\n",
    "pred_df = pd.DataFrame(columns=['buyer_id', 'group_id'])\n",
    "pred_df['buyer_id'] = test_df['buyer_id']\n",
    "pred_df['group_id'] = all_predictions\n",
    "pred_df.to_csv('user_class_df_train.csv')"
   ]
  },
  {
   "cell_type": "code",
   "execution_count": null,
   "id": "b3cc7343",
   "metadata": {},
   "outputs": [],
   "source": []
  },
  {
   "cell_type": "code",
   "execution_count": null,
   "id": "476f2218",
   "metadata": {},
   "outputs": [],
   "source": []
  },
  {
   "cell_type": "code",
   "execution_count": 17,
   "id": "f3b60b35",
   "metadata": {},
   "outputs": [],
   "source": [
    "## kmeans"
   ]
  },
  {
   "cell_type": "code",
   "execution_count": 28,
   "id": "6e2d185a",
   "metadata": {},
   "outputs": [],
   "source": [
    "# X_train_df = test_df.copy()\n",
    "# X_train_df.pop('buyer_id')\n",
    "# X_train = X_train_df.values\n",
    "# distortions = []\n",
    "# inertias = []\n",
    "# mapping1 = {}\n",
    "# mapping2 = {}\n",
    "# K = range(1, 25)\n",
    "\n",
    "# for k in K:\n",
    "#     model = KMeans(n_clusters=k, random_state=7)\n",
    "#     model.fit(X_train)\n",
    "#     all_predictions = model.predict(X_train)\n",
    "#     distortions.append(sum(np.min(cdist(X_train, model.cluster_centers_,\n",
    "#                                             'euclidean'), axis=1)) / X_train.shape[0])\n",
    "#     inertias.append(model.inertia_)\n",
    "#     mapping1[k] = sum(np.min(cdist(X_train, model.cluster_centers_,\n",
    "#                                    'euclidean'), axis=1)) / X_train.shape[0]\n",
    "#     mapping2[k] = model.inertia_"
   ]
  },
  {
   "cell_type": "code",
   "execution_count": 25,
   "id": "a065ab5b",
   "metadata": {},
   "outputs": [
    {
     "data": {
      "image/png": "[encoded data removed]",
      "text/plain": [
       "<Figure size 432x288 with 1 Axes>"
      ]
     },
     "metadata": {
      "needs_background": "light"
     },
     "output_type": "display_data"
    }
   ],
   "source": [
    "# plt.plot(K, distortions, 'bx-')\n",
    "# plt.xlabel('Values of K')\n",
    "# plt.ylabel('Distortion')\n",
    "# plt.title('The Elbow Method using Distortion')\n",
    "# plt.show()"
   ]
  },
  {
   "cell_type": "code",
   "execution_count": 26,
   "id": "5207fb15",
   "metadata": {},
   "outputs": [
    {
     "data": {
      "image/png": "[encoded data removed]",
      "text/plain": [
       "<Figure size 432x288 with 1 Axes>"
      ]
     },
     "metadata": {
      "needs_background": "light"
     },
     "output_type": "display_data"
    }
   ],
   "source": [
    "# plt.plot(K, inertias, 'bx-')\n",
    "# plt.xlabel('Values of K')\n",
    "\n",
    "# plt.ylabel('Inertia')\n",
    "# plt.title('The Elbow Method using Inertia')\n",
    "# plt.show()"
   ]
  },
  {
   "cell_type": "code",
   "execution_count": null,
   "id": "687c45b7",
   "metadata": {},
   "outputs": [],
   "source": [
    "фикс сида + 7 кластеров для трейна + всего датасета"
   ]
  },
  {
   "cell_type": "code",
   "execution_count": 48,
   "id": "1c7726ac",
   "metadata": {},
   "outputs": [
    {
     "data": {
      "text/plain": [
       "47742"
      ]
     },
     "execution_count": 48,
     "metadata": {},
     "output_type": "execute_result"
    }
   ],
   "source": [
    "len(train.buyer_id.unique())"
   ]
  },
  {
   "cell_type": "code",
   "execution_count": 49,
   "id": "010d9e66",
   "metadata": {},
   "outputs": [
    {
     "data": {
      "text/plain": [
       "47742"
      ]
     },
     "execution_count": 49,
     "metadata": {},
     "output_type": "execute_result"
    }
   ],
   "source": [
    "len(pred_df.buyer_id.unique())"
   ]
  },
  {
   "cell_type": "code",
   "execution_count": 50,
   "id": "c64d07e8",
   "metadata": {},
   "outputs": [
    {
     "data": {
      "text/html": [
       "<div>\n",
       "<style scoped>\n",
       "    .dataframe tbody tr th:only-of-type {\n",
       "        vertical-align: middle;\n",
       "    }\n",
       "\n",
       "    .dataframe tbody tr th {\n",
       "        vertical-align: top;\n",
       "    }\n",
       "\n",
       "    .dataframe thead th {\n",
       "        text-align: right;\n",
       "    }\n",
       "</style>\n",
       "<table border=\"1\" class=\"dataframe\">\n",
       "  <thead>\n",
       "    <tr style=\"text-align: right;\">\n",
       "      <th></th>\n",
       "      <th>buyer_id</th>\n",
       "      <th>pav_order_id</th>\n",
       "      <th>created</th>\n",
       "      <th>item_id</th>\n",
       "      <th>count</th>\n",
       "      <th>price_sold</th>\n",
       "      <th>flag_weight_goods</th>\n",
       "      <th>weight</th>\n",
       "    </tr>\n",
       "  </thead>\n",
       "  <tbody>\n",
       "  </tbody>\n",
       "</table>\n",
       "</div>"
      ],
      "text/plain": [
       "Empty DataFrame\n",
       "Columns: [buyer_id, pav_order_id, created, item_id, count, price_sold, flag_weight_goods, weight]\n",
       "Index: []"
      ]
     },
     "execution_count": 50,
     "metadata": {},
     "output_type": "execute_result"
    }
   ],
   "source": [
    "train[train.buyer_id == 4620121727]"
   ]
  },
  {
   "cell_type": "code",
   "execution_count": null,
   "id": "27e569a8",
   "metadata": {},
   "outputs": [],
   "source": []
  }
 ],
 "metadata": {
  "kernelspec": {
   "display_name": "Python 3",
   "language": "python",
   "name": "python3"
  },
  "language_info": {
   "codemirror_mode": {
    "name": "ipython",
    "version": 3
   },
   "file_extension": ".py",
   "mimetype": "text/x-python",
   "name": "python",
   "nbconvert_exporter": "python",
   "pygments_lexer": "ipython3",
   "version": "3.8.8"
  }
 },
 "nbformat": 4,
 "nbformat_minor": 5
}
